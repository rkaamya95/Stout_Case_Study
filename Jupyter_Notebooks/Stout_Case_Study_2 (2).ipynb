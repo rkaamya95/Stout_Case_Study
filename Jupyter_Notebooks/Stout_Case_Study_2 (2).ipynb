{
 "cells": [
  {
   "cell_type": "code",
   "execution_count": 1,
   "metadata": {},
   "outputs": [],
   "source": [
    "import mysql.connector\n",
    "import sqlite3 as sql\n",
    "import pandas as pd\n",
    "import numpy as np\n",
    "import matplotlib as mpl\n",
    "import matplotlib.pyplot as plt\n",
    "import seaborn as sn"
   ]
  },
  {
   "cell_type": "code",
   "execution_count": 2,
   "metadata": {},
   "outputs": [
    {
     "data": {
      "text/html": [
       "<div>\n",
       "<style scoped>\n",
       "    .dataframe tbody tr th:only-of-type {\n",
       "        vertical-align: middle;\n",
       "    }\n",
       "\n",
       "    .dataframe tbody tr th {\n",
       "        vertical-align: top;\n",
       "    }\n",
       "\n",
       "    .dataframe thead th {\n",
       "        text-align: right;\n",
       "    }\n",
       "</style>\n",
       "<table border=\"1\" class=\"dataframe\">\n",
       "  <thead>\n",
       "    <tr style=\"text-align: right;\">\n",
       "      <th></th>\n",
       "      <th>Index</th>\n",
       "      <th>Customer_email</th>\n",
       "      <th>net_revenue</th>\n",
       "      <th>year</th>\n",
       "    </tr>\n",
       "  </thead>\n",
       "  <tbody>\n",
       "    <tr>\n",
       "      <th>0</th>\n",
       "      <td>685926</td>\n",
       "      <td>aregboumbw@gmail.com</td>\n",
       "      <td>208.43</td>\n",
       "      <td>2017</td>\n",
       "    </tr>\n",
       "    <tr>\n",
       "      <th>1</th>\n",
       "      <td>685925</td>\n",
       "      <td>wvkpmwsgck@gmail.com</td>\n",
       "      <td>235.35</td>\n",
       "      <td>2017</td>\n",
       "    </tr>\n",
       "    <tr>\n",
       "      <th>2</th>\n",
       "      <td>685924</td>\n",
       "      <td>appaplmgko@gmail.com</td>\n",
       "      <td>200.98</td>\n",
       "      <td>2017</td>\n",
       "    </tr>\n",
       "    <tr>\n",
       "      <th>3</th>\n",
       "      <td>685923</td>\n",
       "      <td>pjodiifjop@gmail.com</td>\n",
       "      <td>133.03</td>\n",
       "      <td>2017</td>\n",
       "    </tr>\n",
       "    <tr>\n",
       "      <th>4</th>\n",
       "      <td>685922</td>\n",
       "      <td>qzqttwiftu@gmail.com</td>\n",
       "      <td>184.58</td>\n",
       "      <td>2017</td>\n",
       "    </tr>\n",
       "  </tbody>\n",
       "</table>\n",
       "</div>"
      ],
      "text/plain": [
       "    Index         Customer_email  net_revenue  year\n",
       "0  685926   aregboumbw@gmail.com       208.43  2017\n",
       "1  685925   wvkpmwsgck@gmail.com       235.35  2017\n",
       "2  685924   appaplmgko@gmail.com       200.98  2017\n",
       "3  685923   pjodiifjop@gmail.com       133.03  2017\n",
       "4  685922   qzqttwiftu@gmail.com       184.58  2017"
      ]
     },
     "execution_count": 2,
     "metadata": {},
     "output_type": "execute_result"
    }
   ],
   "source": [
    "data = pd.read_csv(r\"C:\\Users\\User\\Downloads\\casestudy.csv\")\n",
    "data.head()"
   ]
  },
  {
   "cell_type": "code",
   "execution_count": 3,
   "metadata": {},
   "outputs": [
    {
     "data": {
      "text/html": [
       "<div>\n",
       "<style scoped>\n",
       "    .dataframe tbody tr th:only-of-type {\n",
       "        vertical-align: middle;\n",
       "    }\n",
       "\n",
       "    .dataframe tbody tr th {\n",
       "        vertical-align: top;\n",
       "    }\n",
       "\n",
       "    .dataframe thead th {\n",
       "        text-align: right;\n",
       "    }\n",
       "</style>\n",
       "<table border=\"1\" class=\"dataframe\">\n",
       "  <thead>\n",
       "    <tr style=\"text-align: right;\">\n",
       "      <th></th>\n",
       "      <th>Index</th>\n",
       "      <th>Customer_email</th>\n",
       "      <th>net_revenue</th>\n",
       "      <th>year</th>\n",
       "    </tr>\n",
       "  </thead>\n",
       "  <tbody>\n",
       "    <tr>\n",
       "      <th>0</th>\n",
       "      <td>False</td>\n",
       "      <td>False</td>\n",
       "      <td>False</td>\n",
       "      <td>False</td>\n",
       "    </tr>\n",
       "    <tr>\n",
       "      <th>1</th>\n",
       "      <td>False</td>\n",
       "      <td>False</td>\n",
       "      <td>False</td>\n",
       "      <td>False</td>\n",
       "    </tr>\n",
       "    <tr>\n",
       "      <th>2</th>\n",
       "      <td>False</td>\n",
       "      <td>False</td>\n",
       "      <td>False</td>\n",
       "      <td>False</td>\n",
       "    </tr>\n",
       "    <tr>\n",
       "      <th>3</th>\n",
       "      <td>False</td>\n",
       "      <td>False</td>\n",
       "      <td>False</td>\n",
       "      <td>False</td>\n",
       "    </tr>\n",
       "    <tr>\n",
       "      <th>4</th>\n",
       "      <td>False</td>\n",
       "      <td>False</td>\n",
       "      <td>False</td>\n",
       "      <td>False</td>\n",
       "    </tr>\n",
       "    <tr>\n",
       "      <th>...</th>\n",
       "      <td>...</td>\n",
       "      <td>...</td>\n",
       "      <td>...</td>\n",
       "      <td>...</td>\n",
       "    </tr>\n",
       "    <tr>\n",
       "      <th>685922</th>\n",
       "      <td>False</td>\n",
       "      <td>False</td>\n",
       "      <td>False</td>\n",
       "      <td>False</td>\n",
       "    </tr>\n",
       "    <tr>\n",
       "      <th>685923</th>\n",
       "      <td>False</td>\n",
       "      <td>False</td>\n",
       "      <td>False</td>\n",
       "      <td>False</td>\n",
       "    </tr>\n",
       "    <tr>\n",
       "      <th>685924</th>\n",
       "      <td>False</td>\n",
       "      <td>False</td>\n",
       "      <td>False</td>\n",
       "      <td>False</td>\n",
       "    </tr>\n",
       "    <tr>\n",
       "      <th>685925</th>\n",
       "      <td>False</td>\n",
       "      <td>False</td>\n",
       "      <td>False</td>\n",
       "      <td>False</td>\n",
       "    </tr>\n",
       "    <tr>\n",
       "      <th>685926</th>\n",
       "      <td>False</td>\n",
       "      <td>False</td>\n",
       "      <td>False</td>\n",
       "      <td>False</td>\n",
       "    </tr>\n",
       "  </tbody>\n",
       "</table>\n",
       "<p>685927 rows × 4 columns</p>\n",
       "</div>"
      ],
      "text/plain": [
       "        Index  Customer_email  net_revenue   year\n",
       "0       False           False        False  False\n",
       "1       False           False        False  False\n",
       "2       False           False        False  False\n",
       "3       False           False        False  False\n",
       "4       False           False        False  False\n",
       "...       ...             ...          ...    ...\n",
       "685922  False           False        False  False\n",
       "685923  False           False        False  False\n",
       "685924  False           False        False  False\n",
       "685925  False           False        False  False\n",
       "685926  False           False        False  False\n",
       "\n",
       "[685927 rows x 4 columns]"
      ]
     },
     "execution_count": 3,
     "metadata": {},
     "output_type": "execute_result"
    }
   ],
   "source": [
    "data.isnull()"
   ]
  },
  {
   "cell_type": "code",
   "execution_count": 4,
   "metadata": {},
   "outputs": [
    {
     "name": "stdout",
     "output_type": "stream",
     "text": [
      "Error while connecting to MySQL 1007 (HY000): Can't create database 'scout_db'; database exists\n"
     ]
    }
   ],
   "source": [
    "import mysql.connector as msql\n",
    "from mysql.connector import Error\n",
    "try:\n",
    "    conn = msql.connect(host='localhost', user='root', password='kaamya')\n",
    "    if conn.is_connected():\n",
    "        cursor = conn.cursor()\n",
    "        cursor.execute(\"CREATE DATABASE scout_DB\")\n",
    "        print(\"scout_DB database is created\")\n",
    "except Error as e:\n",
    "    print(\"Error while connecting to MySQL\", e)"
   ]
  },
  {
   "cell_type": "code",
   "execution_count": 5,
   "metadata": {},
   "outputs": [
    {
     "name": "stdout",
     "output_type": "stream",
     "text": [
      "You're connected to database:  ('scout_db',)\n",
      "Creating table....\n",
      "Error while connecting to MySQL 1050 (42S01): Table 'customer_data_105' already exists\n"
     ]
    }
   ],
   "source": [
    "try:\n",
    "    conn = msql.connect(host='localhost', database='scout_DB', user='root',password='kaamya')\n",
    "    if conn.is_connected():\n",
    "        cursor = conn.cursor()\n",
    "        cursor.execute(\"select database();\")\n",
    "        record = cursor.fetchone()\n",
    "        print(\"You're connected to database: \", record)\n",
    "        #cursor.execute('DROP TABLE IF EXISTS iris;')\n",
    "        print('Creating table....')\n",
    "        cursor.execute(\"CREATE TABLE customer_data_105 (indexes INT PRIMARY KEY, customer_email char(50) , net_revenue FLOAT, years int)\")\n",
    "        print(\"customer table is created....\")\n",
    "        #for i,row in data.iterrows():\n",
    "         #   sql = \"INSERT INTO scout_DB.customer_data_105 VALUES (%s,%s,%s,%s)\"\n",
    "          #  cursor.execute(sql, tuple(row))\n",
    "           # print(\"Record inserted\")\n",
    "            # the connection is not autocommitted by default, so we must commit to save our changes\n",
    "            #conn.commit()\n",
    "except Error as e:\n",
    "    print(\"Error while connecting to MySQL\", e)"
   ]
  },
  {
   "cell_type": "markdown",
   "metadata": {},
   "source": [
    "Note:\n",
    "    \n",
    "Heads Up for the Recruiters:\n",
    "    \n",
    "Database creation, table creation and adding the csv file content into the table was all done through Jupyter notebook using \n",
    "Python. While entering the records into the table i had given a record inserted print statement for every record. \n",
    "This cased me issues while trying to add the notebook into my Github repo or rendering as a HTML. To correct this I \n",
    "had to re-execute the cells which threw the above two errors. Otherwise the code worked fine when i executed initially. \n"
   ]
  },
  {
   "cell_type": "code",
   "execution_count": 4,
   "metadata": {},
   "outputs": [],
   "source": [
    "cursor = conn.cursor(buffered=True)"
   ]
  },
  {
   "cell_type": "code",
   "execution_count": 5,
   "metadata": {},
   "outputs": [],
   "source": [
    "sql = \"USE scout_DB \"\n",
    "cursor.execute(sql)"
   ]
  },
  {
   "cell_type": "markdown",
   "metadata": {},
   "source": [
    "# Total revenue for the current year"
   ]
  },
  {
   "cell_type": "code",
   "execution_count": 71,
   "metadata": {},
   "outputs": [],
   "source": [
    "sql2 = \"SELECT Years, round(sum(net_revenue),2) FROM customer_data_105 group by years\"\n",
    "cursor.execute(sql2)\n",
    "totalrevenue_data = cursor.fetchall()"
   ]
  },
  {
   "cell_type": "code",
   "execution_count": 72,
   "metadata": {},
   "outputs": [
    {
     "name": "stdout",
     "output_type": "stream",
     "text": [
      "[(2015, 29036749.19), (2016, 25730943.59), (2017, 31417495.03)]\n"
     ]
    }
   ],
   "source": [
    "print(totalrevenue_data)"
   ]
  },
  {
   "cell_type": "markdown",
   "metadata": {},
   "source": [
    "# New customer revenue"
   ]
  },
  {
   "cell_type": "code",
   "execution_count": 9,
   "metadata": {},
   "outputs": [
    {
     "name": "stdout",
     "output_type": "stream",
     "text": [
      "[(2016, 17206366.901), (2017, 28190557.178)]\n"
     ]
    }
   ],
   "source": [
    "sql3 = \"(SELECT years, round(sum(net_revenue),3) from customer_data_105 where years=2016 and customer_email not in (select customer_email FROM customer_data_105 where years=2015)) union (SELECT years, round(sum(net_revenue),3) from customer_data_105 where years=2017 and customer_email not in (select customer_email FROM customer_data_105 where years=2016)) \"\n",
    "cursor.execute(sql3)\n",
    "newrevenue_data = cursor.fetchall()\n",
    "\n",
    "print(newrevenue_data)"
   ]
  },
  {
   "cell_type": "markdown",
   "metadata": {},
   "source": [
    "# Existing Customer Growth"
   ]
  },
  {
   "cell_type": "code",
   "execution_count": 35,
   "metadata": {},
   "outputs": [
    {
     "name": "stdout",
     "output_type": "stream",
     "text": [
      "[(8524576.69,)]\n"
     ]
    }
   ],
   "source": [
    "sql4_1 = \"(SELECT round(sum(net_revenue),2) from customer_data_105 where years=2016 and customer_email in (select customer_email from customer_data_105 where years=2015 ))\" \n",
    "cursor.execute(sql4_1)\n",
    "cust_revenue_data1 = cursor.fetchall()"
   ]
  },
  {
   "cell_type": "code",
   "execution_count": 31,
   "metadata": {},
   "outputs": [],
   "source": [
    "sql4_1_1 = \"(SELECT round(sum(net_revenue),2) from customer_data_105 where years=2015 and customer_email in (select customer_email from customer_data_105 where years=2016))\" \n",
    "cursor.execute(sql4_1_1)\n",
    "cust_revenue_data2 = cursor.fetchall()"
   ]
  },
  {
   "cell_type": "code",
   "execution_count": 39,
   "metadata": {},
   "outputs": [
    {
     "name": "stdout",
     "output_type": "stream",
     "text": [
      "Existing Customer growth for the year 2015-2016:  39043.65\n"
     ]
    }
   ],
   "source": [
    "print(\"Existing Customer growth for the year 2015-2016: \",round((cust_revenue_data1[0][0]- cust_revenue_data2[0][0]),2))"
   ]
  },
  {
   "cell_type": "code",
   "execution_count": 40,
   "metadata": {},
   "outputs": [],
   "source": [
    "sql4_2 = \"(SELECT round(sum(net_revenue),2) from customer_data_105 where years=2017 and customer_email in (select customer_email from customer_data_105 where years=2016 ))\"\n",
    "cursor.execute(sql4_2)\n",
    "cust_revenue_data3 = cursor.fetchall()"
   ]
  },
  {
   "cell_type": "code",
   "execution_count": 41,
   "metadata": {},
   "outputs": [],
   "source": [
    "sql4_2_1 = \"(SELECT round(sum(net_revenue),2) from customer_data_105 where years=2016 and customer_email in (select customer_email from customer_data_105 where years=2017 ))\"\n",
    "cursor.execute(sql4_2_1)\n",
    "cust_revenue_data4 = cursor.fetchall()"
   ]
  },
  {
   "cell_type": "code",
   "execution_count": 42,
   "metadata": {},
   "outputs": [
    {
     "name": "stdout",
     "output_type": "stream",
     "text": [
      "Existing Customer growth for the year 2016-2017:  25729.89\n"
     ]
    }
   ],
   "source": [
    "print(\"Existing Customer growth for the year 2016-2017: \",round((cust_revenue_data3[0][0]- cust_revenue_data4[0][0]),2))"
   ]
  },
  {
   "cell_type": "markdown",
   "metadata": {},
   "source": [
    "# Revenue loss due to attrition"
   ]
  },
  {
   "cell_type": "code",
   "execution_count": 12,
   "metadata": {},
   "outputs": [
    {
     "name": "stdout",
     "output_type": "stream",
     "text": [
      "[(2015, 20551216.15), (2016, 22529735.63)]\n"
     ]
    }
   ],
   "source": [
    "sql5 = \"((SELECT years, round(sum(net_revenue),2) from customer_data_105 where years=2015 and customer_email not in (select customer_email from customer_data_105 where years=2016 )) union (SELECT years, round(sum(net_revenue),2) from customer_data_105 where years=2016 and customer_email not in (select customer_email from customer_data_105 where years=2017 ))) \"\n",
    "cursor.execute(sql5)\n",
    "lostcust_revenue_data = cursor.fetchall()\n",
    "\n",
    "print(lostcust_revenue_data)"
   ]
  },
  {
   "cell_type": "markdown",
   "metadata": {},
   "source": [
    "# Existing Customer Revenue Current Year "
   ]
  },
  {
   "cell_type": "code",
   "execution_count": 14,
   "metadata": {},
   "outputs": [
    {
     "name": "stdout",
     "output_type": "stream",
     "text": [
      "[(2016, 8524576.69), (2017, 3226937.85)]\n"
     ]
    }
   ],
   "source": [
    "sql6 = \"((SELECT years, round(sum(net_revenue),2) from customer_data_105 where years=2016 and customer_email in (select customer_email from customer_data_105 where years=2015 )) union (SELECT years, round(sum(net_revenue),2) from customer_data_105 where years=2017 and customer_email in (select customer_email from customer_data_105 where years=2016 ))) \"\n",
    "cursor.execute(sql6)\n",
    "existcust_revenue_data = cursor.fetchall()\n",
    "\n",
    "print(existcust_revenue_data)"
   ]
  },
  {
   "cell_type": "markdown",
   "metadata": {},
   "source": [
    "# Existing Customer Revenue Previous Year"
   ]
  },
  {
   "cell_type": "code",
   "execution_count": 22,
   "metadata": {},
   "outputs": [
    {
     "name": "stdout",
     "output_type": "stream",
     "text": [
      "2016: [(8485533.04,)]\n"
     ]
    }
   ],
   "source": [
    "sql_2015 = \"(SELECT round(sum(net_revenue),2) from customer_data_105 where years=2015 and customer_email in (select customer_email from customer_data_105 where years=2016 ))\" \n",
    "cursor.execute(sql_2015)\n",
    "revenue_data = cursor.fetchall()\n",
    "\n",
    "print(\"2016:\",revenue_data)"
   ]
  },
  {
   "cell_type": "code",
   "execution_count": 23,
   "metadata": {},
   "outputs": [
    {
     "name": "stdout",
     "output_type": "stream",
     "text": [
      "2017: [(3201207.96,)]\n"
     ]
    }
   ],
   "source": [
    "sql_2017=\"(SELECT round(sum(net_revenue),2) from customer_data_105 where years=2016 and customer_email in (select customer_email from customer_data_105 where years=2017))\"\n",
    "cursor.execute(sql_2017)\n",
    "revenue_data = cursor.fetchall()\n",
    "\n",
    "print(\"2017:\",revenue_data)"
   ]
  },
  {
   "cell_type": "markdown",
   "metadata": {},
   "source": [
    "# Total customers Current Year(each year)"
   ]
  },
  {
   "cell_type": "code",
   "execution_count": 24,
   "metadata": {},
   "outputs": [
    {
     "name": "stdout",
     "output_type": "stream",
     "text": [
      "[(2015, 231294), (2016, 204646), (2017, 249987)]\n"
     ]
    }
   ],
   "source": [
    "sql7 = \"SELECT years, count(distinct(customer_email)) FROM customer_data_105 group by years\"\n",
    "cursor.execute(sql7)\n",
    "cust_count_data = cursor.fetchall()\n",
    "\n",
    "print(cust_count_data)"
   ]
  },
  {
   "cell_type": "markdown",
   "metadata": {},
   "source": [
    "# New customers for each year"
   ]
  },
  {
   "cell_type": "code",
   "execution_count": 25,
   "metadata": {},
   "outputs": [
    {
     "name": "stdout",
     "output_type": "stream",
     "text": [
      "[(2016, 136891), (2017, 224420)]\n"
     ]
    }
   ],
   "source": [
    "sql8 = \"(SELECT years, count(distinct(customer_email)) from customer_data_105 where years=2016 and customer_email not in (select distinct(customer_email) from customer_data_105 where years=2015)) union (SELECT years, count(distinct(customer_email)) from customer_data_105 where years=2017 and customer_email not in (select distinct(customer_email) from customer_data_105 where years=2016)) \"\n",
    "cursor.execute(sql8)\n",
    "newcust_count_data = cursor.fetchall()\n",
    "\n",
    "print(newcust_count_data)"
   ]
  },
  {
   "cell_type": "markdown",
   "metadata": {},
   "source": [
    "# Lost customers count"
   ]
  },
  {
   "cell_type": "code",
   "execution_count": 27,
   "metadata": {},
   "outputs": [
    {
     "name": "stdout",
     "output_type": "stream",
     "text": [
      "Customers Lost from year 2015-2016:  [(163539,)]\n"
     ]
    }
   ],
   "source": [
    "sql8 = \"(SELECT count(distinct(customer_email)) from customer_data_105 where years=2015 and customer_email not in (select distinct(customer_email) from customer_data_105 where years=2016))\" \n",
    "cursor.execute(sql8)\n",
    "lostcust_count_data = cursor.fetchall()\n",
    "\n",
    "print(\"Customers Lost from year 2015-2016: \" ,lostcust_count_data)"
   ]
  },
  {
   "cell_type": "code",
   "execution_count": 30,
   "metadata": {},
   "outputs": [
    {
     "name": "stdout",
     "output_type": "stream",
     "text": [
      "Customers Lost from year 2016-2017:  [(179079,)]\n"
     ]
    }
   ],
   "source": [
    "sql8_1 = \"(SELECT count(distinct(customer_email)) from customer_data_105 where years=2016 and customer_email not in (select distinct(customer_email) from customer_data_105 where years=2017))\"\n",
    "cursor.execute(sql8_1)\n",
    "lostcust_count_data = cursor.fetchall()\n",
    "\n",
    "print(\"Customers Lost from year 2016-2017: \" ,lostcust_count_data)"
   ]
  },
  {
   "cell_type": "markdown",
   "metadata": {},
   "source": [
    "# Data Visualizations"
   ]
  },
  {
   "cell_type": "code",
   "execution_count": 66,
   "metadata": {},
   "outputs": [
    {
     "data": {
      "text/plain": [
       "Text(0.5, 1.0, 'Visualizing New Customer Growth from 2015-2017')"
      ]
     },
     "execution_count": 66,
     "metadata": {},
     "output_type": "execute_result"
    },
    {
     "data": {
      "image/png": "[encoded data removed]",
      "text/plain": [
       "<Figure size 1008x576 with 1 Axes>"
      ]
     },
     "metadata": {
      "needs_background": "light"
     },
     "output_type": "display_data"
    }
   ],
   "source": [
    "year=[]\n",
    "new_cust=[]\n",
    "for i in newcust_count_data:\n",
    "    year.append(i[0])\n",
    "    new_cust.append(i[1])\n",
    "\n",
    "plt.figure(figsize=(14,8))\n",
    "plt.bar(year, new_cust)\n",
    "plt.title(\"Visualizing New Customer Growth from 2015-2017\")"
   ]
  },
  {
   "cell_type": "markdown",
   "metadata": {},
   "source": [
    "This was created to visualize the customer growth and it is evident that there has been a steady customer growth over the years"
   ]
  },
  {
   "cell_type": "code",
   "execution_count": 73,
   "metadata": {},
   "outputs": [
    {
     "name": "stdout",
     "output_type": "stream",
     "text": [
      "(2015, 29036749.19)\n",
      "(2016, 25730943.59)\n",
      "(2017, 31417495.03)\n"
     ]
    },
    {
     "data": {
      "text/plain": [
       "Text(0.5, 1.0, 'Total Revenue for each year')"
      ]
     },
     "execution_count": 73,
     "metadata": {},
     "output_type": "execute_result"
    },
    {
     "data": {
      "image/png": "[encoded data removed]",
      "text/plain": [
       "<Figure size 1008x576 with 1 Axes>"
      ]
     },
     "metadata": {
      "needs_background": "light"
     },
     "output_type": "display_data"
    }
   ],
   "source": [
    "year=[]\n",
    "new_cust=[]\n",
    "for i in totalrevenue_data:\n",
    "    print(i)\n",
    "    year.append(i[0])\n",
    "    new_cust.append(i[1])\n",
    "\n",
    "plt.figure(figsize=(14,8))\n",
    "plt.bar(year, new_cust)\n",
    "plt.title(\"Total Revenue for each year\")"
   ]
  },
  {
   "cell_type": "markdown",
   "metadata": {},
   "source": [
    "This visualization was developed to understand the revene value of the company. Overall the revenue has seen a upward trend \n",
    "during 2015-2017 except for a small dip in 2016"
   ]
  }
 ],
 "metadata": {
  "kernelspec": {
   "display_name": "Python 3",
   "language": "python",
   "name": "python3"
  },
  "language_info": {
   "codemirror_mode": {
    "name": "ipython",
    "version": 3
   },
   "file_extension": ".py",
   "mimetype": "text/x-python",
   "name": "python",
   "nbconvert_exporter": "python",
   "pygments_lexer": "ipython3",
   "version": "3.8.5"
  }
 },
 "nbformat": 4,
 "nbformat_minor": 4
}
